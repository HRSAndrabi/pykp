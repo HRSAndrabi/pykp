{
 "cells": [
  {
   "cell_type": "code",
   "execution_count": 1,
   "metadata": {},
   "outputs": [],
   "source": [
    "from pykp import Knapsack, Item, Sampler\n",
    "from pykp import solvers\n",
    "import warnings\n",
    "import numpy as np\n",
    "import matplotlib.pyplot as plt\n",
    "from minizinc import Instance, Model, Solver\n",
    "from queue import PriorityQueue\n",
    "from enum import StrEnum, Enum\n",
    "from typing import Literal\n",
    "import time\n",
    "\n",
    "from tqdm import tqdm\n",
    "import pandas as pd\n",
    "from collections import defaultdict\n"
   ]
  },
  {
   "cell_type": "code",
   "execution_count": 10,
   "metadata": {},
   "outputs": [
    {
     "name": "stdout",
     "output_type": "stream",
     "text": [
      "(v: 35, w: 16, s: 28928) (v: 35, w: 16, s: 28928)\n"
     ]
    }
   ],
   "source": [
    "np.random.seed(0)\n",
    "top = 1\n",
    "n = 15\n",
    "weights = np.random.randint(1, 10, n)\n",
    "values = np.random.randint(1, 10, n)\n",
    "items = np.array([Item(v, w) for v, w in zip(values, weights)])\n",
    "capacity = int(sum(weights) / 5)\n",
    "\n",
    "knapsack = Knapsack(items=items, capacity=capacity)\n",
    "knapsack.solve(solve_all_nodes=True)\n",
    "\n",
    "solutions = solvers.branch_and_bound(items, capacity, top)\n",
    "\n",
    "for i in range(top):\n",
    "\tprint(solutions[i], knapsack.terminal_nodes[i])\n",
    "\t\n"
   ]
  },
  {
   "cell_type": "code",
   "execution_count": 16,
   "metadata": {},
   "outputs": [
    {
     "data": {
      "text/plain": [
       "array([(v: 38, w: 23, s: 1019904), (v: 37, w: 21, s: 1032192),\n",
       "       (v: 37, w: 22, s: 1024000), (v: 37, w: 23, s: 903168),\n",
       "       (v: 37, w: 23, s: 970752), (v: 36, w: 22, s: 1018880),\n",
       "       (v: 36, w: 22, s: 902144), (v: 36, w: 22, s: 974848),\n",
       "       (v: 36, w: 23, s: 1017344), (v: 36, w: 23, s: 772096),\n",
       "       (v: 36, w: 23, s: 872448), (v: 36, w: 23, s: 989184),\n",
       "       (v: 36, w: 23, s: 893952), (v: 35, w: 21, s: 1001472),\n",
       "       (v: 35, w: 22, s: 969728), (v: 35, w: 22, s: 771072),\n",
       "       (v: 35, w: 22, s: 999936), (v: 35, w: 22, s: 993280),\n",
       "       (v: 35, w: 22, s: 876544), (v: 35, w: 22, s: 988160),\n",
       "       (v: 35, w: 23, s: 991744), (v: 35, w: 23, s: 961536),\n",
       "       (v: 35, w: 23, s: 741376), (v: 35, w: 23, s: 968192),\n",
       "       (v: 35, w: 23, s: 762880), (v: 35, w: 23, s: 940032),\n",
       "       (v: 35, w: 23, s: 508928), (v: 35, w: 23, s: 844800)], dtype=object)"
      ]
     },
     "execution_count": 16,
     "metadata": {},
     "output_type": "execute_result"
    }
   ],
   "source": [
    "np.random.seed(0)\n",
    "top = 20\n",
    "n = 20\n",
    "weights = np.random.randint(1, 10, n)\n",
    "values = np.random.randint(1, 10, n)\n",
    "items = np.array([Item(v, w) for v, w in zip(values, weights)])\n",
    "capacity = int(sum(weights) / 5)\n",
    "\n",
    "solutions = solvers.branch_and_bound(items, capacity, top)\n",
    "solutions"
   ]
  },
  {
   "cell_type": "code",
   "execution_count": 2,
   "metadata": {},
   "outputs": [
    {
     "data": {
      "text/html": [
       "<div>\n",
       "<style scoped>\n",
       "    .dataframe tbody tr th:only-of-type {\n",
       "        vertical-align: middle;\n",
       "    }\n",
       "\n",
       "    .dataframe tbody tr th {\n",
       "        vertical-align: top;\n",
       "    }\n",
       "\n",
       "    .dataframe thead tr th {\n",
       "        text-align: left;\n",
       "    }\n",
       "</style>\n",
       "<table border=\"1\" class=\"dataframe\">\n",
       "  <thead>\n",
       "    <tr>\n",
       "      <th></th>\n",
       "      <th colspan=\"5\" halign=\"left\">C = 0.48683978424996827, nC = 0.2, nTerminal = 32, nOptimal = 1</th>\n",
       "    </tr>\n",
       "    <tr>\n",
       "      <th></th>\n",
       "      <th>1</th>\n",
       "      <th>2</th>\n",
       "      <th>3</th>\n",
       "      <th>4</th>\n",
       "      <th>5</th>\n",
       "    </tr>\n",
       "  </thead>\n",
       "  <tbody>\n",
       "    <tr>\n",
       "      <th>v</th>\n",
       "      <td>0.26342</td>\n",
       "      <td>0.128757</td>\n",
       "      <td>0.98703</td>\n",
       "      <td>0.566814</td>\n",
       "      <td>0.197886</td>\n",
       "    </tr>\n",
       "    <tr>\n",
       "      <th>w</th>\n",
       "      <td>0.133142</td>\n",
       "      <td>0.091584</td>\n",
       "      <td>0.85392</td>\n",
       "      <td>0.532865</td>\n",
       "      <td>0.822687</td>\n",
       "    </tr>\n",
       "    <tr>\n",
       "      <th>density</th>\n",
       "      <td>1.978</td>\n",
       "      <td>1.406</td>\n",
       "      <td>1.156</td>\n",
       "      <td>1.064</td>\n",
       "      <td>0.241</td>\n",
       "    </tr>\n",
       "    <tr>\n",
       "      <th>solution (v = 0.3921767473792429, w = 0.22472598046098663, k = 0)</th>\n",
       "      <td>IN</td>\n",
       "      <td>IN</td>\n",
       "      <td>OUT</td>\n",
       "      <td>OUT</td>\n",
       "      <td>OUT</td>\n",
       "    </tr>\n",
       "  </tbody>\n",
       "</table>\n",
       "</div>"
      ],
      "text/plain": [
       "                                                   C = 0.48683978424996827, nC = 0.2, nTerminal = 32, nOptimal = 1  \\\n",
       "                                                                                                                 1   \n",
       "v                                                                                             0.26342                \n",
       "w                                                                                            0.133142                \n",
       "density                                                                                         1.978                \n",
       "solution (v = 0.3921767473792429, w = 0.2247259...                                                 IN                \n",
       "\n",
       "                                                                       \\\n",
       "                                                           2        3   \n",
       "v                                                   0.128757  0.98703   \n",
       "w                                                   0.091584  0.85392   \n",
       "density                                                1.406    1.156   \n",
       "solution (v = 0.3921767473792429, w = 0.2247259...        IN      OUT   \n",
       "\n",
       "                                                                        \n",
       "                                                           4         5  \n",
       "v                                                   0.566814  0.197886  \n",
       "w                                                   0.532865  0.822687  \n",
       "density                                                1.064     0.241  \n",
       "solution (v = 0.3921767473792429, w = 0.2247259...       OUT       OUT  "
      ]
     },
     "execution_count": 2,
     "metadata": {},
     "output_type": "execute_result"
    }
   ],
   "source": [
    "samples = []\n",
    "nc_list = [0.2, 0.4, 0.6, 0.8]\n",
    "n_list = [5, 10, 15, 20]\n",
    "for nc in nc_list:\n",
    "\tfor n in n_list:\n",
    "\t\tsampler = Sampler(\n",
    "\t\t\tnum_items = n,\n",
    "\t\t\tnormalised_capacity = nc,\n",
    "\t\t)\n",
    "\t\tsample = sampler.sample()\n",
    "\t\tsolution = solvers.mzn_gecode(sample.items, sample.capacity)\n",
    "\t\tsample.optimal_nodes = np.array([solution])\n",
    "\t\tsamples.append(sample)\n",
    "\n",
    "\n",
    "samples[0].summary()"
   ]
  },
  {
   "cell_type": "code",
   "execution_count": 30,
   "metadata": {},
   "outputs": [
    {
     "data": {
      "text/plain": [
       "[np.int64(2), np.int64(1)]"
      ]
     },
     "execution_count": 30,
     "metadata": {},
     "output_type": "execute_result"
    }
   ],
   "source": [
    "list(np.array([2, 1]))"
   ]
  },
  {
   "cell_type": "code",
   "execution_count": 40,
   "metadata": {},
   "outputs": [],
   "source": [
    "import json\n",
    "\n",
    "data = []\n",
    "for i, sample in enumerate(samples):\n",
    "\trecord = {\n",
    "\t\t\"weights\": [item.weight for item in sample.items],\n",
    "\t\t\"values\": [item.value for item in sample.items],\n",
    "\t\t\"capacity\": sample.capacity,\n",
    "\t\t\"optimal_value\": sample.optimal_nodes[0].value,\n",
    "\t\t\"optimal_nodes\": [\n",
    "\t\t\t{\n",
    "\t\t\t\t\"weight\": node.weight,\n",
    "\t\t\t\t\"value\": node.value,\n",
    "\t\t\t\t\"state\": list(node.state)\n",
    "\t\t\t} for node in sample.optimal_nodes\n",
    "\t\t]\n",
    "\t}\n",
    "\tdata.append(record)\n",
    "with open(f\"../tests/test_cases.json\", \"w\") as f:\n",
    "\tjson.dump(data, f,default = int)\n",
    "\n",
    "\n"
   ]
  },
  {
   "cell_type": "code",
   "execution_count": 3,
   "metadata": {},
   "outputs": [
    {
     "data": {
      "text/plain": [
       "(v: 5, w: 5, s: 9)"
      ]
     },
     "execution_count": 3,
     "metadata": {},
     "output_type": "execute_result"
    }
   ],
   "source": [
    "await solvers.mzn_gecode(\n",
    "\titems=np.array([Item(1, 1), Item(2, 2), Item(3, 3), Item(4, 4)]),\n",
    "\tcapacity=5\n",
    ")"
   ]
  },
  {
   "cell_type": "code",
   "execution_count": 2,
   "metadata": {},
   "outputs": [
    {
     "name": "stderr",
     "output_type": "stream",
     "text": [
      "100%|██████████| 400000/400000 [24:27<00:00, 272.55it/s]\n"
     ]
    }
   ],
   "source": [
    "import pykp.metrics as metrics\n",
    "\n",
    "grid, phase_transition = metrics.phase_transition(\n",
    "\tnum_items=12,\n",
    "\tsamples=1000,\n",
    "\tsolver=\"branch_and_bound\",\n",
    "\tresolution = (20, 20),\n",
    "\tpath=\"phase_transition.csv\"\n",
    ")"
   ]
  },
  {
   "cell_type": "code",
   "execution_count": 6,
   "metadata": {},
   "outputs": [
    {
     "data": {
      "image/png": "[encoded data removed]",
      "text/plain": [
       "<Figure size 800x600 with 2 Axes>"
      ]
     },
     "metadata": {},
     "output_type": "display_data"
    }
   ],
   "source": [
    "fig, axes = plt.subplots(\n",
    "\tnrows = 1,\n",
    "\tncols = 1,\n",
    "\tdpi = 200,\n",
    "\tfigsize = (4, 3),\n",
    "\ttight_layout = True,\n",
    ")\n",
    "image = axes.imshow(\n",
    "\tphase_transition, \n",
    "\tcmap=\"RdYlGn\", \n",
    "\tinterpolation=\"nearest\",\n",
    "\t# origin=\"lower\",\n",
    "\taspect=\"auto\",\n",
    "\textent=(0, 1, 0, 1),\n",
    ")\n",
    "axes.set(xlabel=\"nc\", ylabel=\"np\")\n",
    "cbar = fig.colorbar(image, ax=axes)\n",
    "cbar.ax.set_ylabel(\"solvability\")\n",
    "plt.show()"
   ]
  },
  {
   "cell_type": "code",
   "execution_count": 5,
   "metadata": {},
   "outputs": [
    {
     "data": {
      "text/html": [
       "<div>\n",
       "<style scoped>\n",
       "    .dataframe tbody tr th:only-of-type {\n",
       "        vertical-align: middle;\n",
       "    }\n",
       "\n",
       "    .dataframe tbody tr th {\n",
       "        vertical-align: top;\n",
       "    }\n",
       "\n",
       "    .dataframe thead tr th {\n",
       "        text-align: left;\n",
       "    }\n",
       "</style>\n",
       "<table border=\"1\" class=\"dataframe\">\n",
       "  <thead>\n",
       "    <tr>\n",
       "      <th></th>\n",
       "      <th colspan=\"3\" halign=\"left\">C = 15, nC = 0.83, nTerminal = 8, nOptimal = 1</th>\n",
       "    </tr>\n",
       "    <tr>\n",
       "      <th></th>\n",
       "      <th>1</th>\n",
       "      <th>2</th>\n",
       "      <th>3</th>\n",
       "    </tr>\n",
       "  </thead>\n",
       "  <tbody>\n",
       "    <tr>\n",
       "      <th>v</th>\n",
       "      <td>7</td>\n",
       "      <td>10</td>\n",
       "      <td>15</td>\n",
       "    </tr>\n",
       "    <tr>\n",
       "      <th>w</th>\n",
       "      <td>3</td>\n",
       "      <td>5</td>\n",
       "      <td>10</td>\n",
       "    </tr>\n",
       "    <tr>\n",
       "      <th>density</th>\n",
       "      <td>2.333</td>\n",
       "      <td>2.0</td>\n",
       "      <td>1.5</td>\n",
       "    </tr>\n",
       "    <tr>\n",
       "      <th>solution (v = 25, w = 15, k = 2)</th>\n",
       "      <td>OUT</td>\n",
       "      <td>IN</td>\n",
       "      <td>IN</td>\n",
       "    </tr>\n",
       "  </tbody>\n",
       "</table>\n",
       "</div>"
      ],
      "text/plain": [
       "                                 C = 15, nC = 0.83, nTerminal = 8, nOptimal = 1  \\\n",
       "                                                                              1   \n",
       "v                                                                             7   \n",
       "w                                                                             3   \n",
       "density                                                                   2.333   \n",
       "solution (v = 25, w = 15, k = 2)                                            OUT   \n",
       "\n",
       "                                            \n",
       "                                    2    3  \n",
       "v                                  10   15  \n",
       "w                                   5   10  \n",
       "density                           2.0  1.5  \n",
       "solution (v = 25, w = 15, k = 2)   IN   IN  "
      ]
     },
     "metadata": {},
     "output_type": "display_data"
    },
    {
     "name": "stdout",
     "output_type": "stream",
     "text": [
      "2\n"
     ]
    }
   ],
   "source": [
    "from pykp import Knapsack\n",
    "from pykp import Item\n",
    "import pykp.metrics as metrics\n",
    "\n",
    "items = [\n",
    "\tItem(value=10, weight=5), \n",
    "\tItem(value=15, weight=10), \n",
    "\tItem(value=7, weight=3)\n",
    "]\n",
    "capacity = 15\n",
    "knapsack = Knapsack(items=items, capacity=capacity)\n",
    "await knapsack.solve(method = \"mzn_gecode\")\n",
    "\n",
    "display(knapsack.summary())\n",
    "\n",
    "sahni_k = metrics.sahni_k(knapsack.optimal_nodes[0], capacity)\n",
    "print(sahni_k)"
   ]
  },
  {
   "cell_type": "code",
   "execution_count": 2,
   "metadata": {},
   "outputs": [],
   "source": [
    "np.random.seed(2)\n",
    "for seed in range(5):\n",
    "\tnp.random.seed(seed)\n",
    "\tn = 12\n",
    "\tweights = np.random.randint(1, 10, n)\n",
    "\tvalues = np.random.randint(1, 10, n)\n",
    "\titems = np.array([Item(v, w) for v, w in zip(values, weights)])\n",
    "\tcapacity = int(sum(weights) / 2)\n",
    "\n",
    "\tkp = Knapsack(\n",
    "\t\titems = items,\n",
    "\t\tcapacity = capacity\n",
    "\t)\n",
    "\tsolvers = [\"branch_and_bound\", \"mzn_gecode\"]\n",
    "\tsolutions = []\n",
    "\tfor solver in solvers:\n",
    "\t\tres = await kp.solve(method = solver)\n",
    "\t\tsolutions.append(res[0])\n",
    "\t\n",
    "\tif solutions[0] != solutions[1]:\n",
    "\t\tprint(\"Different solutions\")\n",
    "\t\tprint(\"Weights: \", weights)\n",
    "\t\tprint(\"Values: \", values)\n",
    "\t\tprint(\"Capacity: \", capacity)\n",
    "\t\tprint(\"Branch and bound: \", solutions[0])\n",
    "\t\tprint(\"Mzn gecode: \", solutions[1])\n",
    "\t\tbreak\n"
   ]
  },
  {
   "cell_type": "code",
   "execution_count": 1,
   "metadata": {},
   "outputs": [
    {
     "ename": "NameError",
     "evalue": "name 'np' is not defined",
     "output_type": "error",
     "traceback": [
      "\u001b[0;31m---------------------------------------------------------------------------\u001b[0m",
      "\u001b[0;31mNameError\u001b[0m                                 Traceback (most recent call last)",
      "Cell \u001b[0;32mIn[1], line 1\u001b[0m\n\u001b[0;32m----> 1\u001b[0m state \u001b[38;5;241m=\u001b[39m \u001b[43mnp\u001b[49m\u001b[38;5;241m.\u001b[39mzeros(\u001b[38;5;28mlen\u001b[39m(items))\n\u001b[1;32m      2\u001b[0m best_item \u001b[38;5;241m=\u001b[39m items[\u001b[38;5;241m1\u001b[39m]\n\u001b[1;32m      3\u001b[0m \u001b[38;5;28mprint\u001b[39m(items)\n",
      "\u001b[0;31mNameError\u001b[0m: name 'np' is not defined"
     ]
    }
   ],
   "source": [
    "state = np.zeros(len(items))\n",
    "best_item = items[1]\n",
    "print(items)\n",
    "print(best_item)\n",
    "\n",
    "state[np.where(items == best_item)[0][0]] = 1\n",
    "\n",
    "state"
   ]
  },
  {
   "cell_type": "code",
   "execution_count": 7,
   "metadata": {},
   "outputs": [
    {
     "name": "stdout",
     "output_type": "stream",
     "text": [
      "initialised\n",
      "Time: 0.028398990631103516\n"
     ]
    }
   ],
   "source": [
    "weights = np.random.randint(1, 10, 20)\n",
    "values = np.random.randint(1, 10, 20)\n",
    "\n",
    "kp = Knapsack(\n",
    "\titems = [Item(v, w) for v, w in zip(values, weights)],\n",
    "\tcapacity = sum(weights) / 2\n",
    ")\n",
    "print(\"initialised\")\n",
    "start_time = time.time()\n",
    "await kp.solve(method=\"branch_and_bound\")\n",
    "print(f\"Time: {time.time() - start_time}\")\n"
   ]
  },
  {
   "cell_type": "code",
   "execution_count": 16,
   "metadata": {},
   "outputs": [
    {
     "data": {
      "text/html": [
       "<div>\n",
       "<style scoped>\n",
       "    .dataframe tbody tr th:only-of-type {\n",
       "        vertical-align: middle;\n",
       "    }\n",
       "\n",
       "    .dataframe tbody tr th {\n",
       "        vertical-align: top;\n",
       "    }\n",
       "\n",
       "    .dataframe thead tr th {\n",
       "        text-align: left;\n",
       "    }\n",
       "</style>\n",
       "<table border=\"1\" class=\"dataframe\">\n",
       "  <thead>\n",
       "    <tr>\n",
       "      <th></th>\n",
       "      <th colspan=\"20\" halign=\"left\">C = 37.0, nC = 0.5, nTerminal = 1048576, nOptimal = 1</th>\n",
       "    </tr>\n",
       "    <tr>\n",
       "      <th></th>\n",
       "      <th>1</th>\n",
       "      <th>2</th>\n",
       "      <th>3</th>\n",
       "      <th>4</th>\n",
       "      <th>5</th>\n",
       "      <th>6</th>\n",
       "      <th>7</th>\n",
       "      <th>8</th>\n",
       "      <th>9</th>\n",
       "      <th>10</th>\n",
       "      <th>11</th>\n",
       "      <th>12</th>\n",
       "      <th>13</th>\n",
       "      <th>14</th>\n",
       "      <th>15</th>\n",
       "      <th>16</th>\n",
       "      <th>17</th>\n",
       "      <th>18</th>\n",
       "      <th>19</th>\n",
       "      <th>20</th>\n",
       "    </tr>\n",
       "  </thead>\n",
       "  <tbody>\n",
       "    <tr>\n",
       "      <th>v</th>\n",
       "      <td>7</td>\n",
       "      <td>7</td>\n",
       "      <td>4</td>\n",
       "      <td>9</td>\n",
       "      <td>9</td>\n",
       "      <td>9</td>\n",
       "      <td>9</td>\n",
       "      <td>5</td>\n",
       "      <td>4</td>\n",
       "      <td>4</td>\n",
       "      <td>2</td>\n",
       "      <td>3</td>\n",
       "      <td>3</td>\n",
       "      <td>7</td>\n",
       "      <td>4</td>\n",
       "      <td>3</td>\n",
       "      <td>2</td>\n",
       "      <td>1</td>\n",
       "      <td>1</td>\n",
       "      <td>1</td>\n",
       "    </tr>\n",
       "    <tr>\n",
       "      <th>w</th>\n",
       "      <td>1</td>\n",
       "      <td>1</td>\n",
       "      <td>1</td>\n",
       "      <td>3</td>\n",
       "      <td>4</td>\n",
       "      <td>4</td>\n",
       "      <td>4</td>\n",
       "      <td>3</td>\n",
       "      <td>3</td>\n",
       "      <td>3</td>\n",
       "      <td>2</td>\n",
       "      <td>3</td>\n",
       "      <td>3</td>\n",
       "      <td>8</td>\n",
       "      <td>5</td>\n",
       "      <td>4</td>\n",
       "      <td>5</td>\n",
       "      <td>3</td>\n",
       "      <td>6</td>\n",
       "      <td>8</td>\n",
       "    </tr>\n",
       "    <tr>\n",
       "      <th>density</th>\n",
       "      <td>7.0</td>\n",
       "      <td>7.0</td>\n",
       "      <td>4.0</td>\n",
       "      <td>3.0</td>\n",
       "      <td>2.25</td>\n",
       "      <td>2.25</td>\n",
       "      <td>2.25</td>\n",
       "      <td>1.667</td>\n",
       "      <td>1.333</td>\n",
       "      <td>1.333</td>\n",
       "      <td>1.0</td>\n",
       "      <td>1.0</td>\n",
       "      <td>1.0</td>\n",
       "      <td>0.875</td>\n",
       "      <td>0.8</td>\n",
       "      <td>0.75</td>\n",
       "      <td>0.4</td>\n",
       "      <td>0.333</td>\n",
       "      <td>0.167</td>\n",
       "      <td>0.125</td>\n",
       "    </tr>\n",
       "    <tr>\n",
       "      <th>solution (v = 76, w = 37, k = 2)</th>\n",
       "      <td>IN</td>\n",
       "      <td>IN</td>\n",
       "      <td>IN</td>\n",
       "      <td>IN</td>\n",
       "      <td>IN</td>\n",
       "      <td>IN</td>\n",
       "      <td>IN</td>\n",
       "      <td>IN</td>\n",
       "      <td>IN</td>\n",
       "      <td>IN</td>\n",
       "      <td>IN</td>\n",
       "      <td>OUT</td>\n",
       "      <td>IN</td>\n",
       "      <td>OUT</td>\n",
       "      <td>IN</td>\n",
       "      <td>OUT</td>\n",
       "      <td>OUT</td>\n",
       "      <td>OUT</td>\n",
       "      <td>OUT</td>\n",
       "      <td>OUT</td>\n",
       "    </tr>\n",
       "  </tbody>\n",
       "</table>\n",
       "</div>"
      ],
      "text/plain": [
       "                                 C = 37.0, nC = 0.5, nTerminal = 1048576, nOptimal = 1  \\\n",
       "                                                                                    1    \n",
       "v                                                                                 7      \n",
       "w                                                                                 1      \n",
       "density                                                                         7.0      \n",
       "solution (v = 76, w = 37, k = 2)                                                 IN      \n",
       "\n",
       "                                                                          \\\n",
       "                                   2    3    4     5     6     7      8    \n",
       "v                                   7    4    9     9     9     9      5   \n",
       "w                                   1    1    3     4     4     4      3   \n",
       "density                           7.0  4.0  3.0  2.25  2.25  2.25  1.667   \n",
       "solution (v = 76, w = 37, k = 2)   IN   IN   IN    IN    IN    IN     IN   \n",
       "\n",
       "                                                                           \\\n",
       "                                     9      10   11   12   13     14   15   \n",
       "v                                     4      4    2    3    3      7    4   \n",
       "w                                     3      3    2    3    3      8    5   \n",
       "density                           1.333  1.333  1.0  1.0  1.0  0.875  0.8   \n",
       "solution (v = 76, w = 37, k = 2)     IN     IN   IN  OUT   IN    OUT   IN   \n",
       "\n",
       "                                                                  \n",
       "                                    16   17     18     19     20  \n",
       "v                                    3    2      1      1      1  \n",
       "w                                    4    5      3      6      8  \n",
       "density                           0.75  0.4  0.333  0.167  0.125  \n",
       "solution (v = 76, w = 37, k = 2)   OUT  OUT    OUT    OUT    OUT  "
      ]
     },
     "execution_count": 16,
     "metadata": {},
     "output_type": "execute_result"
    }
   ],
   "source": [
    "kp.summary()"
   ]
  },
  {
   "cell_type": "code",
   "execution_count": 10,
   "metadata": {},
   "outputs": [
    {
     "name": "stdout",
     "output_type": "stream",
     "text": [
      "Time: 0.02136087417602539\n"
     ]
    },
    {
     "data": {
      "text/plain": [
       "{(v: 69, w: 48, s: 1046208), (v: 69, w: 48, s: 1047232)}"
      ]
     },
     "execution_count": 10,
     "metadata": {},
     "output_type": "execute_result"
    }
   ],
   "source": [
    "start_time = time.time()\n",
    "solver = BranchAndBound()\n",
    "result = solver.solve(items = kp.items, capacity = kp.capacity)\n",
    "print(f\"Time: {time.time() - start_time}\")\n",
    "result"
   ]
  },
  {
   "cell_type": "code",
   "execution_count": 3,
   "metadata": {},
   "outputs": [],
   "source": [
    "model = Model()\n",
    "model.add_string(\n",
    "\t\"\"\"\n",
    "    int: n; % number of objects\n",
    "    set of int: OBJ = 1..n;\n",
    "    int: capacity;\n",
    "    array[OBJ] of int: profit;\n",
    "    array[OBJ] of int: size;\n",
    "\n",
    "    %var set of OBJ: x;\n",
    "    array[OBJ] of var 0..1: x;\n",
    "    var int: TotalProfit=sum(i in OBJ)(profit[i]*x[i]);\n",
    "\n",
    "    constraint sum(i in OBJ)(size[i]*x[i]) <= capacity;\n",
    "\n",
    "    solve :: int_search(x, first_fail, indomain_max, complete) maximize TotalProfit;\n",
    "\t\"\"\"\n",
    ")"
   ]
  },
  {
   "cell_type": "code",
   "execution_count": 5,
   "metadata": {},
   "outputs": [
    {
     "ename": "TypeError",
     "evalue": "cannot determine coercion from type float to type int",
     "output_type": "error",
     "traceback": [
      "\u001b[0;31m---------------------------------------------------------------------------\u001b[0m",
      "\u001b[0;31mTypeError\u001b[0m                                 Traceback (most recent call last)",
      "Cell \u001b[0;32mIn[5], line 9\u001b[0m\n\u001b[1;32m      6\u001b[0m instance[\u001b[38;5;124m\"\u001b[39m\u001b[38;5;124mprofit\u001b[39m\u001b[38;5;124m\"\u001b[39m] \u001b[38;5;241m=\u001b[39m [\u001b[38;5;241m3\u001b[39m, \u001b[38;5;241m4\u001b[39m, \u001b[38;5;241m3\u001b[39m, \u001b[38;5;241m8\u001b[39m]\n\u001b[1;32m      7\u001b[0m instance[\u001b[38;5;124m\"\u001b[39m\u001b[38;5;124msize\u001b[39m\u001b[38;5;124m\"\u001b[39m] \u001b[38;5;241m=\u001b[39m [\u001b[38;5;241m2\u001b[39m, \u001b[38;5;241m3\u001b[39m, \u001b[38;5;241m4\u001b[39m, \u001b[38;5;241m5\u001b[39m]\n\u001b[0;32m----> 9\u001b[0m result \u001b[38;5;241m=\u001b[39m \u001b[38;5;28;01mawait\u001b[39;00m instance\u001b[38;5;241m.\u001b[39msolve_async()\n\u001b[1;32m     10\u001b[0m \u001b[38;5;28mprint\u001b[39m(result)\n\u001b[1;32m     12\u001b[0m np\u001b[38;5;241m.\u001b[39marray(result[\u001b[38;5;124m\"\u001b[39m\u001b[38;5;124mx\u001b[39m\u001b[38;5;124m\"\u001b[39m])\n",
      "File \u001b[0;32m~/Documents/projects/pykp/venv/lib/python3.12/site-packages/minizinc/instance.py:235\u001b[0m, in \u001b[0;36mInstance.solve_async\u001b[0;34m(self, timeout, nr_solutions, processes, random_seed, all_solutions, intermediate_solutions, free_search, optimisation_level, **kwargs)\u001b[0m\n\u001b[1;32m    232\u001b[0m \u001b[38;5;28;01mif\u001b[39;00m multiple_solutions:\n\u001b[1;32m    233\u001b[0m     solution \u001b[38;5;241m=\u001b[39m []\n\u001b[0;32m--> 235\u001b[0m \u001b[38;5;28;01masync\u001b[39;00m \u001b[38;5;28;01mfor\u001b[39;00m result \u001b[38;5;129;01min\u001b[39;00m \u001b[38;5;28mself\u001b[39m\u001b[38;5;241m.\u001b[39msolutions(\n\u001b[1;32m    236\u001b[0m     timeout\u001b[38;5;241m=\u001b[39mtimeout,\n\u001b[1;32m    237\u001b[0m     nr_solutions\u001b[38;5;241m=\u001b[39mnr_solutions,\n\u001b[1;32m    238\u001b[0m     processes\u001b[38;5;241m=\u001b[39mprocesses,\n\u001b[1;32m    239\u001b[0m     random_seed\u001b[38;5;241m=\u001b[39mrandom_seed,\n\u001b[1;32m    240\u001b[0m     all_solutions\u001b[38;5;241m=\u001b[39mall_solutions,\n\u001b[1;32m    241\u001b[0m     free_search\u001b[38;5;241m=\u001b[39mfree_search,\n\u001b[1;32m    242\u001b[0m     optimisation_level\u001b[38;5;241m=\u001b[39moptimisation_level,\n\u001b[1;32m    243\u001b[0m     \u001b[38;5;241m*\u001b[39m\u001b[38;5;241m*\u001b[39mkwargs,\n\u001b[1;32m    244\u001b[0m ):\n\u001b[1;32m    245\u001b[0m     status \u001b[38;5;241m=\u001b[39m result\u001b[38;5;241m.\u001b[39mstatus\n\u001b[1;32m    246\u001b[0m     statistics\u001b[38;5;241m.\u001b[39mupdate(result\u001b[38;5;241m.\u001b[39mstatistics)\n",
      "File \u001b[0;32m~/Documents/projects/pykp/venv/lib/python3.12/site-packages/minizinc/instance.py:283\u001b[0m, in \u001b[0;36mInstance.solutions\u001b[0;34m(self, timeout, nr_solutions, processes, random_seed, all_solutions, intermediate_solutions, free_search, optimisation_level, verbose, debug_output, **kwargs)\u001b[0m\n\u001b[1;32m    254\u001b[0m \u001b[38;5;28;01masync\u001b[39;00m \u001b[38;5;28;01mdef\u001b[39;00m \u001b[38;5;21msolutions\u001b[39m(\n\u001b[1;32m    255\u001b[0m     \u001b[38;5;28mself\u001b[39m,\n\u001b[1;32m    256\u001b[0m     timeout: Optional[timedelta] \u001b[38;5;241m=\u001b[39m \u001b[38;5;28;01mNone\u001b[39;00m,\n\u001b[0;32m   (...)\u001b[0m\n\u001b[1;32m    266\u001b[0m     \u001b[38;5;241m*\u001b[39m\u001b[38;5;241m*\u001b[39mkwargs,\n\u001b[1;32m    267\u001b[0m ) \u001b[38;5;241m-\u001b[39m\u001b[38;5;241m>\u001b[39m AsyncIterator[Result]:\n\u001b[1;32m    268\u001b[0m \u001b[38;5;250m    \u001b[39m\u001b[38;5;124;03m\"\"\"An asynchronous generator for solutions of the MiniZinc instance.\u001b[39;00m\n\u001b[1;32m    269\u001b[0m \n\u001b[1;32m    270\u001b[0m \u001b[38;5;124;03m    This method provides an asynchronous generator for the solutions of the\u001b[39;00m\n\u001b[0;32m   (...)\u001b[0m\n\u001b[1;32m    281\u001b[0m \n\u001b[1;32m    282\u001b[0m \u001b[38;5;124;03m    \"\"\"\u001b[39;00m\n\u001b[0;32m--> 283\u001b[0m     method \u001b[38;5;241m=\u001b[39m \u001b[38;5;28;43mself\u001b[39;49m\u001b[38;5;241;43m.\u001b[39;49m\u001b[43mmethod\u001b[49m  \u001b[38;5;66;03m# Ensure self.analyse() has been executed\u001b[39;00m\n\u001b[1;32m    284\u001b[0m     \u001b[38;5;66;03m# Set standard command line arguments\u001b[39;00m\n\u001b[1;32m    285\u001b[0m     cmd: List[Any] \u001b[38;5;241m=\u001b[39m [\n\u001b[1;32m    286\u001b[0m         \u001b[38;5;124m\"\u001b[39m\u001b[38;5;124m--output-mode\u001b[39m\u001b[38;5;124m\"\u001b[39m,\n\u001b[1;32m    287\u001b[0m         \u001b[38;5;124m\"\u001b[39m\u001b[38;5;124mjson\u001b[39m\u001b[38;5;124m\"\u001b[39m,\n\u001b[0;32m   (...)\u001b[0m\n\u001b[1;32m    294\u001b[0m         \u001b[38;5;124m\"\u001b[39m\u001b[38;5;124m--intermediate-solutions\u001b[39m\u001b[38;5;124m\"\u001b[39m,\n\u001b[1;32m    295\u001b[0m     ]\n",
      "File \u001b[0;32m~/Documents/projects/pykp/venv/lib/python3.12/site-packages/minizinc/instance.py:546\u001b[0m, in \u001b[0;36mInstance.method\u001b[0;34m(self)\u001b[0m\n\u001b[1;32m    540\u001b[0m \u001b[38;5;250m\u001b[39m\u001b[38;5;124;03m\"\"\"Query the Method used by the Instance.\u001b[39;00m\n\u001b[1;32m    541\u001b[0m \n\u001b[1;32m    542\u001b[0m \u001b[38;5;124;03mReturns:\u001b[39;00m\n\u001b[1;32m    543\u001b[0m \u001b[38;5;124;03m    Method: Method of the goal used by the Instance.\u001b[39;00m\n\u001b[1;32m    544\u001b[0m \u001b[38;5;124;03m\"\"\"\u001b[39;00m\n\u001b[1;32m    545\u001b[0m \u001b[38;5;28;01mif\u001b[39;00m \u001b[38;5;28mself\u001b[39m\u001b[38;5;241m.\u001b[39m_method_cache \u001b[38;5;129;01mis\u001b[39;00m \u001b[38;5;28;01mNone\u001b[39;00m:\n\u001b[0;32m--> 546\u001b[0m     \u001b[38;5;28;43mself\u001b[39;49m\u001b[38;5;241;43m.\u001b[39;49m\u001b[43manalyse\u001b[49m\u001b[43m(\u001b[49m\u001b[43m)\u001b[49m\n\u001b[1;32m    547\u001b[0m \u001b[38;5;28;01massert\u001b[39;00m \u001b[38;5;28mself\u001b[39m\u001b[38;5;241m.\u001b[39m_method_cache \u001b[38;5;129;01mis\u001b[39;00m \u001b[38;5;129;01mnot\u001b[39;00m \u001b[38;5;28;01mNone\u001b[39;00m\n\u001b[1;32m    548\u001b[0m \u001b[38;5;28;01mreturn\u001b[39;00m \u001b[38;5;28mself\u001b[39m\u001b[38;5;241m.\u001b[39m_method_cache\n",
      "File \u001b[0;32m~/Documents/projects/pykp/venv/lib/python3.12/site-packages/minizinc/instance.py:584\u001b[0m, in \u001b[0;36mInstance.analyse\u001b[0;34m(self)\u001b[0m\n\u001b[1;32m    582\u001b[0m \u001b[38;5;28;01mwith\u001b[39;00m \u001b[38;5;28mself\u001b[39m\u001b[38;5;241m.\u001b[39mfiles() \u001b[38;5;28;01mas\u001b[39;00m files:\n\u001b[1;32m    583\u001b[0m     \u001b[38;5;28;01massert\u001b[39;00m \u001b[38;5;28mlen\u001b[39m(files) \u001b[38;5;241m>\u001b[39m \u001b[38;5;241m0\u001b[39m\n\u001b[0;32m--> 584\u001b[0m     output \u001b[38;5;241m=\u001b[39m \u001b[38;5;28;43mself\u001b[39;49m\u001b[38;5;241;43m.\u001b[39;49m\u001b[43m_driver\u001b[49m\u001b[38;5;241;43m.\u001b[39;49m\u001b[43m_run\u001b[49m\u001b[43m(\u001b[49m\u001b[43m[\u001b[49m\u001b[38;5;124;43m\"\u001b[39;49m\u001b[38;5;124;43m--model-interface-only\u001b[39;49m\u001b[38;5;124;43m\"\u001b[39;49m\u001b[43m]\u001b[49m\u001b[43m \u001b[49m\u001b[38;5;241;43m+\u001b[39;49m\u001b[43m \u001b[49m\u001b[43mfiles\u001b[49m\u001b[43m,\u001b[49m\u001b[43m \u001b[49m\u001b[38;5;28;43mself\u001b[39;49m\u001b[38;5;241;43m.\u001b[39;49m\u001b[43m_solver\u001b[49m\u001b[43m)\u001b[49m\n\u001b[1;32m    585\u001b[0m \u001b[38;5;28;01mif\u001b[39;00m \u001b[38;5;28mself\u001b[39m\u001b[38;5;241m.\u001b[39m_driver\u001b[38;5;241m.\u001b[39mparsed_version \u001b[38;5;241m>\u001b[39m\u001b[38;5;241m=\u001b[39m (\u001b[38;5;241m2\u001b[39m, \u001b[38;5;241m6\u001b[39m, \u001b[38;5;241m0\u001b[39m):\n\u001b[1;32m    586\u001b[0m     interface \u001b[38;5;241m=\u001b[39m \u001b[38;5;28;01mNone\u001b[39;00m\n",
      "File \u001b[0;32m~/Documents/projects/pykp/venv/lib/python3.12/site-packages/minizinc/driver.py:232\u001b[0m, in \u001b[0;36mDriver._run\u001b[0;34m(self, args, solver)\u001b[0m\n\u001b[1;32m    229\u001b[0m \u001b[38;5;28;01mif\u001b[39;00m output\u001b[38;5;241m.\u001b[39mreturncode \u001b[38;5;241m!=\u001b[39m \u001b[38;5;241m0\u001b[39m:\n\u001b[1;32m    230\u001b[0m     \u001b[38;5;28;01mif\u001b[39;00m \u001b[38;5;28mself\u001b[39m\u001b[38;5;241m.\u001b[39mparsed_version \u001b[38;5;241m>\u001b[39m\u001b[38;5;241m=\u001b[39m (\u001b[38;5;241m2\u001b[39m, \u001b[38;5;241m6\u001b[39m, \u001b[38;5;241m0\u001b[39m):\n\u001b[1;32m    231\u001b[0m         \u001b[38;5;66;03m# Error will (usually) be raised in json stream\u001b[39;00m\n\u001b[0;32m--> 232\u001b[0m \u001b[43m        \u001b[49m\u001b[38;5;28;43;01mfor\u001b[39;49;00m\u001b[43m \u001b[49m\u001b[43m_\u001b[49m\u001b[43m \u001b[49m\u001b[38;5;129;43;01min\u001b[39;49;00m\u001b[43m \u001b[49m\u001b[43mdecode_json_stream\u001b[49m\u001b[43m(\u001b[49m\u001b[43moutput\u001b[49m\u001b[38;5;241;43m.\u001b[39;49m\u001b[43mstdout\u001b[49m\u001b[43m)\u001b[49m\u001b[43m:\u001b[49m\n\u001b[1;32m    233\u001b[0m \u001b[43m            \u001b[49m\u001b[38;5;28;43;01mpass\u001b[39;49;00m\n\u001b[1;32m    234\u001b[0m     \u001b[38;5;28;01mraise\u001b[39;00m parse_error(output\u001b[38;5;241m.\u001b[39mstderr)\n",
      "File \u001b[0;32m~/Documents/projects/pykp/venv/lib/python3.12/site-packages/minizinc/json.py:90\u001b[0m, in \u001b[0;36mdecode_json_stream\u001b[0;34m(byte_stream, cls, **kw)\u001b[0m\n\u001b[1;32m     88\u001b[0m     warnings\u001b[38;5;241m.\u001b[39mwarn(obj[\u001b[38;5;124m\"\u001b[39m\u001b[38;5;124mmessage\u001b[39m\u001b[38;5;124m\"\u001b[39m], MiniZincWarning)\n\u001b[1;32m     89\u001b[0m \u001b[38;5;28;01melif\u001b[39;00m obj[\u001b[38;5;124m\"\u001b[39m\u001b[38;5;124mtype\u001b[39m\u001b[38;5;124m\"\u001b[39m] \u001b[38;5;241m==\u001b[39m \u001b[38;5;124m\"\u001b[39m\u001b[38;5;124merror\u001b[39m\u001b[38;5;124m\"\u001b[39m:\n\u001b[0;32m---> 90\u001b[0m     \u001b[38;5;28;01mraise\u001b[39;00m error_from_stream_obj(obj)\n\u001b[1;32m     91\u001b[0m \u001b[38;5;28;01melse\u001b[39;00m:\n\u001b[1;32m     92\u001b[0m     \u001b[38;5;28;01myield\u001b[39;00m obj\n",
      "\u001b[0;31mTypeError\u001b[0m: cannot determine coercion from type float to type int"
     ]
    }
   ],
   "source": [
    "gecode = Solver.lookup(\"gecode\")\n",
    "\n",
    "instance = Instance(gecode, model)\n",
    "instance[\"n\"] = 4\n",
    "instance[\"capacity\"] = 6.5\n",
    "instance[\"profit\"] = [3, 4, 3, 8]\n",
    "instance[\"size\"] = [2, 3, 4, 5]\n",
    "\n",
    "result = await instance.solve_async()\n",
    "print(result)\n",
    "\n",
    "np.array(result[\"x\"])"
   ]
  },
  {
   "cell_type": "code",
   "execution_count": 4,
   "metadata": {},
   "outputs": [
    {
     "ename": "TypeError",
     "evalue": "Solver.__init__() missing 3 required positional arguments: 'name', 'version', and 'id'",
     "output_type": "error",
     "traceback": [
      "\u001b[0;31m---------------------------------------------------------------------------\u001b[0m",
      "\u001b[0;31mTypeError\u001b[0m                                 Traceback (most recent call last)",
      "Cell \u001b[0;32mIn[4], line 7\u001b[0m\n\u001b[1;32m      5\u001b[0m items \u001b[38;5;241m=\u001b[39m np\u001b[38;5;241m.\u001b[39marray([Item(v, w) \u001b[38;5;28;01mfor\u001b[39;00m v, w \u001b[38;5;129;01min\u001b[39;00m \u001b[38;5;28mzip\u001b[39m(values, weights)])\n\u001b[1;32m      6\u001b[0m capacity \u001b[38;5;241m=\u001b[39m \u001b[38;5;28mint\u001b[39m(\u001b[38;5;28msum\u001b[39m(weights) \u001b[38;5;241m/\u001b[39m \u001b[38;5;241m2\u001b[39m)\n\u001b[0;32m----> 7\u001b[0m solver \u001b[38;5;241m=\u001b[39m \u001b[43mMznGecode\u001b[49m\u001b[43m(\u001b[49m\u001b[43m)\u001b[49m\n\u001b[1;32m      9\u001b[0m result \u001b[38;5;241m=\u001b[39m \u001b[38;5;28;01mawait\u001b[39;00m solver\u001b[38;5;241m.\u001b[39msolve(items \u001b[38;5;241m=\u001b[39m items, capacity \u001b[38;5;241m=\u001b[39m capacity)\n\u001b[1;32m     10\u001b[0m result\n",
      "\u001b[0;31mTypeError\u001b[0m: Solver.__init__() missing 3 required positional arguments: 'name', 'version', and 'id'"
     ]
    }
   ],
   "source": [
    "np.random.seed(2)\n",
    "n = 35\n",
    "weights = np.random.randint(1, 10, n)\n",
    "values = np.random.randint(1, 10, n)\n",
    "items = np.array([Item(v, w) for v, w in zip(values, weights)])\n",
    "capacity = int(sum(weights) / 2)\n",
    "solver = MznGecode()\n",
    "\n",
    "result = await solver.solve(items = items, capacity = capacity)\n",
    "result"
   ]
  },
  {
   "cell_type": "code",
   "execution_count": 1,
   "metadata": {},
   "outputs": [
    {
     "name": "stdout",
     "output_type": "stream",
     "text": [
      "Working on (0, 0)\n",
      "Finished (0, 0)\n",
      "Working on (0, 10)\n",
      "Finished (0, 10)\n",
      "Working on (0, 20)\n",
      "Finished (0, 20)\n",
      "Working on (1, 1)\n",
      "Finished (1, 1)\n",
      "Working on (1, 11)\n",
      "Finished (1, 11)\n",
      "Working on (1, 21)\n",
      "Finished (1, 21)\n",
      "Working on (2, 2)\n",
      "Finished (2, 2)\n",
      "Working on (2, 12)\n",
      "Finished (2, 12)\n",
      "Working on (2, 22)\n",
      "Finished (2, 22)\n",
      "Working on (3, 3)\n",
      "Finished (3, 3)\n",
      "Working on (3, 13)\n",
      "Finished (3, 13)\n",
      "Working on (3, 23)\n",
      "Finished (3, 23)\n",
      "Working on (4, 4)\n",
      "Finished (4, 4)\n",
      "Working on (4, 14)\n",
      "Finished (4, 14)\n",
      "Working on (4, 24)\n",
      "Finished (4, 24)\n",
      "Working on (5, 5)\n",
      "Finished (5, 5)\n",
      "Working on (5, 15)\n",
      "Finished (5, 15)\n",
      "Working on (5, 25)\n",
      "Finished (5, 25)\n",
      "Working on (6, 6)\n",
      "Finished (6, 6)\n",
      "Working on (6, 16)\n",
      "Finished (6, 16)\n",
      "Working on (6, 26)\n",
      "Finished (6, 26)\n",
      "Working on (7, 7)\n",
      "Finished (7, 7)\n",
      "Working on (7, 17)\n",
      "Finished (7, 17)\n",
      "Working on (7, 27)\n",
      "Finished (7, 27)\n",
      "Working on (8, 8)\n",
      "Finished (8, 8)\n",
      "Working on (8, 18)\n",
      "Finished (8, 18)\n",
      "Working on (8, 28)\n",
      "Finished (8, 28)\n",
      "Working on (9, 9)\n",
      "Finished (9, 9)\n",
      "Working on (9, 19)\n",
      "Finished (9, 19)\n",
      "Working on (9, 29)\n",
      "Finished (9, 29)\n",
      "All work completed\n"
     ]
    }
   ],
   "source": [
    "import threading\n",
    "import queue\n",
    "import time\n",
    "\n",
    "q = queue.PriorityQueue()\n",
    "\n",
    "def worker():\n",
    "    while True:\n",
    "        item = q.get()\n",
    "        print(f'Working on {item}')\n",
    "        time.sleep(1)\n",
    "        print(f'Finished {item}')\n",
    "        q.task_done()\n",
    "\n",
    "# Turn-on the worker thread.\n",
    "threading.Thread(target=worker, daemon=True).start()\n",
    "\n",
    "# Send thirty task requests to the worker.\n",
    "for item in range(30):\n",
    "    q.put((item%10, item))\n",
    "\n",
    "# Block until all tasks are done.\n",
    "q.join()\n",
    "print('All work completed')"
   ]
  }
 ],
 "metadata": {
  "kernelspec": {
   "display_name": ".venv",
   "language": "python",
   "name": "python3"
  },
  "language_info": {
   "codemirror_mode": {
    "name": "ipython",
    "version": 3
   },
   "file_extension": ".py",
   "mimetype": "text/x-python",
   "name": "python",
   "nbconvert_exporter": "python",
   "pygments_lexer": "ipython3",
   "version": "3.12.2"
  }
 },
 "nbformat": 4,
 "nbformat_minor": 2
}
