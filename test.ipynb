{
 "cells": [
  {
   "cell_type": "code",
   "execution_count": 2,
   "metadata": {},
   "outputs": [],
   "source": [
    "from pykp import Knapsack, Item\n",
    "import numpy as np"
   ]
  },
  {
   "cell_type": "code",
   "execution_count": 11,
   "metadata": {},
   "outputs": [],
   "source": [
    "kp = Knapsack(\n",
    "\titems = np.array([\n",
    "\t\tItem(2, 40),\n",
    "\t\tItem(10, 12),\n",
    "\t\tItem(32, 49),\n",
    "\t\tItem(30, 29),\n",
    "\t\tItem(29, 12),\n",
    "\t\tItem(10, 39),\n",
    "\t\tItem(29, 49),\n",
    "\t\tItem(48, 38),\n",
    "\t]),\n",
    "\tcapacity = 200\n",
    ")"
   ]
  },
  {
   "cell_type": "code",
   "execution_count": 14,
   "metadata": {},
   "outputs": [],
   "source": [
    "kp.solve(\n",
    "\tsolve_feasible_nodes = True,\n",
    "\tsolve_terminal_nodes = True,\n",
    "\tsolve_second_best = False,\n",
    ")"
   ]
  },
  {
   "cell_type": "code",
   "execution_count": 15,
   "metadata": {},
   "outputs": [
    {
     "data": {
      "text/html": [
       "<div>\n",
       "<style scoped>\n",
       "    .dataframe tbody tr th:only-of-type {\n",
       "        vertical-align: middle;\n",
       "    }\n",
       "\n",
       "    .dataframe tbody tr th {\n",
       "        vertical-align: top;\n",
       "    }\n",
       "\n",
       "    .dataframe thead tr th {\n",
       "        text-align: left;\n",
       "    }\n",
       "</style>\n",
       "<table border=\"1\" class=\"dataframe\">\n",
       "  <thead>\n",
       "    <tr>\n",
       "      <th></th>\n",
       "      <th colspan=\"8\" halign=\"left\">C = 200, nC = 0.75, nTerminal = 18, nOptimal = 1, Δ = 19, Δ% = 0.107</th>\n",
       "    </tr>\n",
       "    <tr>\n",
       "      <th></th>\n",
       "      <th>1</th>\n",
       "      <th>2</th>\n",
       "      <th>3</th>\n",
       "      <th>4</th>\n",
       "      <th>5</th>\n",
       "      <th>6</th>\n",
       "      <th>7</th>\n",
       "      <th>8</th>\n",
       "    </tr>\n",
       "  </thead>\n",
       "  <tbody>\n",
       "    <tr>\n",
       "      <th>v</th>\n",
       "      <td>29</td>\n",
       "      <td>48</td>\n",
       "      <td>30</td>\n",
       "      <td>10</td>\n",
       "      <td>32</td>\n",
       "      <td>29</td>\n",
       "      <td>10</td>\n",
       "      <td>2</td>\n",
       "    </tr>\n",
       "    <tr>\n",
       "      <th>w</th>\n",
       "      <td>12</td>\n",
       "      <td>38</td>\n",
       "      <td>29</td>\n",
       "      <td>12</td>\n",
       "      <td>49</td>\n",
       "      <td>49</td>\n",
       "      <td>39</td>\n",
       "      <td>40</td>\n",
       "    </tr>\n",
       "    <tr>\n",
       "      <th>density</th>\n",
       "      <td>2.417</td>\n",
       "      <td>1.263</td>\n",
       "      <td>1.034</td>\n",
       "      <td>0.833</td>\n",
       "      <td>0.653</td>\n",
       "      <td>0.592</td>\n",
       "      <td>0.256</td>\n",
       "      <td>0.05</td>\n",
       "    </tr>\n",
       "    <tr>\n",
       "      <th>solution (v = 178, w = 189, k = 0)</th>\n",
       "      <td>IN</td>\n",
       "      <td>IN</td>\n",
       "      <td>IN</td>\n",
       "      <td>IN</td>\n",
       "      <td>IN</td>\n",
       "      <td>IN</td>\n",
       "      <td>OUT</td>\n",
       "      <td>OUT</td>\n",
       "    </tr>\n",
       "    <tr>\n",
       "      <th>best inferior (v = 159, w = 179, k = 6)</th>\n",
       "      <td>OUT</td>\n",
       "      <td>IN</td>\n",
       "      <td>IN</td>\n",
       "      <td>IN</td>\n",
       "      <td>IN</td>\n",
       "      <td>IN</td>\n",
       "      <td>OUT</td>\n",
       "      <td>IN</td>\n",
       "    </tr>\n",
       "  </tbody>\n",
       "</table>\n",
       "</div>"
      ],
      "text/plain": [
       "                                        C = 200, nC = 0.75, nTerminal = 18, nOptimal = 1, Δ = 19, Δ% = 0.107  ...      \n",
       "                                                                                                           1  ...     8\n",
       "v                                                                                       29                    ...     2\n",
       "w                                                                                       12                    ...    40\n",
       "density                                                                              2.417                    ...  0.05\n",
       "solution (v = 178, w = 189, k = 0)                                                      IN                    ...   OUT\n",
       "best inferior (v = 159, w = 179, k = 6)                                                OUT                    ...    IN\n",
       "\n",
       "[5 rows x 8 columns]"
      ]
     },
     "execution_count": 15,
     "metadata": {},
     "output_type": "execute_result"
    }
   ],
   "source": [
    "\n",
    "kp.summary()"
   ]
  }
 ],
 "metadata": {
  "kernelspec": {
   "display_name": "venv",
   "language": "python",
   "name": "python3"
  },
  "language_info": {
   "codemirror_mode": {
    "name": "ipython",
    "version": 3
   },
   "file_extension": ".py",
   "mimetype": "text/x-python",
   "name": "python",
   "nbconvert_exporter": "python",
   "pygments_lexer": "ipython3",
   "version": "3.12.2"
  }
 },
 "nbformat": 4,
 "nbformat_minor": 2
}
